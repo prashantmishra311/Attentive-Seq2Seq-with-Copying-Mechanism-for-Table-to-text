{
 "cells": [
  {
   "cell_type": "markdown",
   "metadata": {},
   "source": [
    "# Natural Language Generation over Exploratory Data Analysis\n",
    "\n",
    "## 1. Business Context:\n",
    "Data scientist collaborate with a number of Business Analysts to discuss results and insights from data. This communication is crucial throughout the project . Automated textual report generation based on results, graphs, summaries  etc  from EDA stage can simplify this communication challenge and help with better documentation of data reports.\n",
    "\n",
    "## 2. Objective:\n",
    "Automated  textual summary report generation after exploratory data analysis stage of data science projects. This comprises  3 subobjectives which are to be accomplished in 3 separate phases. These are followings:\n",
    "* Automated summary of tables, graphs & plots\n",
    "* Export mechanism for generated summary into report format.\n",
    "* Build a conversational AI chatbot [proposed name; EDAt :)] to interact with the end user on EDA"
   ]
  },
  {
   "cell_type": "markdown",
   "metadata": {},
   "source": [
    "Our workflow pipeline is depicted below *(subject to change)*\n",
    "<img src=\assets\"workflow_plan.jpg\">"
   ]
  },
  {
   "cell_type": "markdown",
   "metadata": {},
   "source": [
    "### 2.1 Automated summary of tables, graphs & plots\n",
    "In first phase, we intend to build a python function which generates EDA summary of a vaild dataframe in crude numerical/graphical form. For our objective, we will assume any tabular data a valid dataframe which consists of rows and columns with single entry, be it a categorical or numerical value, in each cell. Our EDA will feature:\n",
    "* **Preliminary analysis of the data**\n",
    " * *Preview of the data*\n",
    " * *Any missing values*\n",
    " * *Any duplicated entries*\n",
    "* **EDA on Quantitative/numerical data**\n",
    " * *Box plots*\n",
    " * *Violin plots to investigate the effects of categorical features on target variable*\n",
    " * *Pairwise joint distributions*\n",
    "* **EDA on Qualitative/categorical data**\n",
    " * *Top 5 unique values for categorical data*\n",
    " * *Count distribution of categorical data*"
   ]
  },
  {
   "cell_type": "markdown",
   "metadata": {},
   "source": [
    "**2.1.1 Steps involved in building the EDA function**\n",
    "\n",
    "**i)** Import relevant libraries like *pandas* (for dataframe operations), *numpy* (for matrix operations) along with *seaborn*, and *matplotlib* (for visualizations). An special package *missingno* built for visuals of missing vaules in the dataframe is also imported. For first time usage this package needs to be downloaded using *pip install missingno* command. "
   ]
  },
  {
   "cell_type": "code",
   "execution_count": null,
   "metadata": {},
   "outputs": [],
   "source": [
    "# import relevant libraries. if some libraries are missing in your system then download them using...\n",
    "# pip install <library name>\n",
    "import pandas as pd\n",
    "import numpy as np\n",
    "import matplotlib\n",
    "import matplotlib.pyplot as plt\n",
    "import seaborn as sns\n",
    "import missingno\n",
    "import warnings\n",
    "import math"
   ]
  },
  {
   "cell_type": "code",
   "execution_count": null,
   "metadata": {},
   "outputs": [],
   "source": [
    "warnings.filterwarnings(\"ignore\")\n",
    "%matplotlib inline"
   ]
  },
  {
   "cell_type": "markdown",
   "metadata": {},
   "source": [
    "**ii)** Define a quantitative eda function which generates the box plots, violin plots and joint distribution of numerical features. "
   ]
  },
  {
   "cell_type": "code",
   "execution_count": null,
   "metadata": {},
   "outputs": [],
   "source": [
    "def quantitative_eda(df):\n",
    "    \"\"\"generates EDA of quantitative data in given dataframe\"\"\"\n",
    "    print(\"\\nTo check: \\nDistribution of numeric data\")\n",
    "    \n",
    "    display(df.describe().transpose()) # describes the numeric columns and displays the transposed form \n",
    "    columns = df.select_dtypes(include=np.number).columns  # fetches the numeric columns\n",
    "    \n",
    "    figure = plt.figure(figsize=(20, 10)) # set the figure area and its size\n",
    "    figure.add_subplot(1, len(columns), 1) # add subplots for multiple plots in figure area\n",
    "    \n",
    "    # this block below iterates over numeric columns and plots Box plot\n",
    "    for index, col in enumerate(columns): \n",
    "        if index > 0:\n",
    "            figure.add_subplot(1, len(columns), index + 1)\n",
    "        sns.boxplot(y=col, data=df, boxprops={'facecolor': 'None'})\n",
    "    figure.tight_layout()\n",
    "    plt.show()\n",
    "    \n",
    "    # block below plots the Violin plots to investigate the effects of categorical features on target variable\n",
    "    if len(df.select_dtypes(include=['object', 'category']).columns) > 0: \n",
    "        for col_num in df.select_dtypes(include=np.number).columns:\n",
    "            for col in df.select_dtypes(include=['object', 'category']).columns:\n",
    "                fig = sns.catplot(x=col, y=col_num, kind='violin', data=df, height=5, aspect=2)\n",
    "                fig.set_xticklabels(rotation=90)\n",
    "                plt.show()\n",
    "    \n",
    "    # this block below plots the pairwise joint distributions\n",
    "    print(\"\\nTo check pairwise joint distribution of numeric data\")\n",
    "    sns.pairplot(df.select_dtypes(include=np.number))\n",
    "    \n",
    "    print(\"\\nTo check correlation matrix of numeric data\") #(update1: added)\n",
    "    ax = sns.heatmap(df.select_dtypes(include=np.number).corr(), annot=True, square=True)\n",
    "    bottom, top = ax.get_ylim()\n",
    "    ax.set_ylim(bottom + 0.5, top - 0.5)\n",
    "    plt.show()"
   ]
  },
  {
   "cell_type": "markdown",
   "metadata": {},
   "source": [
    "**iii)** Define a qualitative eda function as below which generates top categorical features and the distribution of count statistic."
   ]
  },
  {
   "cell_type": "code",
   "execution_count": null,
   "metadata": {},
   "outputs": [],
   "source": [
    "def qualitative_eda(df):\n",
    "    \"\"\"generates EDA of qualitative data in given dataframe\"\"\"\n",
    "    print(\"\\nTo check: \\nUnique count of non-numeric data\\n\")\n",
    "    #print(df.select_dtypes(include=['object', 'category']).nunique())\n",
    "    \n",
    "    cat_columns = df.select_dtypes(include=['object', 'category']).columns # fetches the categorical columns\n",
    "    unique_vals = df.select_dtypes(include=['object', 'category']).nunique() #fetches the unique values in categorical columnd\n",
    "    df_cat_unique = pd.DataFrame(unique_vals, columns=['Unique Values'])\n",
    "    df_cat_unique = df_cat_unique.reset_index().rename(columns={'index': 'Categorical features'})\n",
    "    print(df_cat_unique) #(update1: tabulaized for aesthetics)\n",
    "    \n",
    "    '''\n",
    "    # this block below generates top 5 unique values for categorical data\n",
    "    for col in cat_columns:\n",
    "        print(\"Top 5 unique values of \" + col)\n",
    "        print(df[col].value_counts().reset_index().rename(columns={\"index\": col, col: \"Count\"})[\n",
    "              :min(5, len(df[col].value_counts()))])\n",
    "        print(\" \")\n",
    "        ''' #(update1: Redundant hence excluded)\n",
    "    \n",
    "    # this block below plots the Count distribution of categorical data\n",
    "    r = int(round(math.sqrt(len(cat_columns))))\n",
    "    plt.figure(figsize=(9*r,6*r))\n",
    "    for index,col in enumerate(cat_columns): # enumerate(cat_columns) == zip(range(len(cat_columns)),cat_columns)\n",
    "        plt.subplot(r+1,r+1,index+1)\n",
    "        x_vals, labels = df[col].value_counts(), df[col].value_counts().index\n",
    "        plt.pie(x_vals, labels=labels, autopct='%1.1f%%',pctdistance=0.5)\n",
    "        plt.title('Count distribution of elements in '+col)\n",
    "    plt.show() #(update1: presented in pie chart instead of table)"
   ]
  },
  {
   "cell_type": "markdown",
   "metadata": {},
   "source": [
    "**iv)** Define a function for time series plot if such data is present in the dataframe"
   ]
  },
  {
   "cell_type": "code",
   "execution_count": null,
   "metadata": {},
   "outputs": [],
   "source": [
    "def time_series_plot(df): #(update1: time series plots added)\n",
    "    \"\"\"Generates times series plot of numeric data by daily, monthly and yearly frequency for given dataframe\"\"\"\n",
    "    \n",
    "    print(\"\\nTo check time series of numeric data  by daily, monthly and yearly frequency\")\n",
    "    if len(df.select_dtypes(include='datetime64').columns)>0:\n",
    "        for col in df.select_dtypes(include='datetime64').columns:\n",
    "            for p in ['D', 'M', 'Y']:\n",
    "                if p=='D':\n",
    "                    print(\"Plotting daily data\")\n",
    "                elif p=='M':\n",
    "                    print(\"Plotting monthly data\")\n",
    "                else:\n",
    "                    print(\"Plotting yearly data\")\n",
    "                for col_num in df.select_dtypes(include=np.number).columns:\n",
    "                    __ = df.copy()\n",
    "                    __ = __.set_index(col)\n",
    "                    __T = __.resample(p).sum()\n",
    "                    ax = __T[[col_num]].plot()\n",
    "                    ax.set_ylim(bottom=0)\n",
    "                    ax.get_yaxis().set_major_formatter(\n",
    "                    matplotlib.ticker.FuncFormatter(lambda x, p: format(int(x), ',')))\n",
    "                    plt.show()"
   ]
  },
  {
   "cell_type": "markdown",
   "metadata": {},
   "source": [
    "**v)** Define the final eda function which conducts the preliminary analysis as well as incorporates the quantitative and qualitative eda functions defined above. "
   ]
  },
  {
   "cell_type": "code",
   "execution_count": null,
   "metadata": {},
   "outputs": [],
   "source": [
    "def eda(df):\n",
    "    \"\"\"generates exploratory data analysis on given dataframe\"\"\"\n",
    "    # check that input is pandas dataframe\n",
    "    if type(df) != pd.core.frame.DataFrame:\n",
    "        raise TypeError(\"Only pandas dataframe is allowed as input\")\n",
    "        \n",
    "    df = df.replace(r'^\\s*$', np.nan, regex=True) # replaces empty spaces with NaN in fed dataframe\n",
    "\n",
    "    print(\"Preview of data:\")\n",
    "    display(df.head(3))\n",
    "\n",
    "    print(\"\\nTo check: \\n (1) Total number of entries \\n (2) Column types \\n (3) Any null values\\n\")\n",
    "    print(df.info())\n",
    "\n",
    "    # this block below generates preview of entries with null values\n",
    "    if len(df[df.isnull().any(axis=1)] != 0):\n",
    "        print(\"\\nPreview of data with null values:\")\n",
    "        display(df[df.isnull().any(axis=1)].head(3))\n",
    "        missingno.matrix(df)\n",
    "        plt.show()\n",
    "\n",
    "    # this block below generates the counts of duplicate entries\n",
    "    if len(df[df.duplicated()]) > 0:\n",
    "        print(\"\\n***Number of duplicated entries: \", len(df[df.duplicated()]))\n",
    "        display(df[df.duplicated(keep=False)].sort_values(by=list(df.columns)).head())\n",
    "    else:\n",
    "        print(\"\\nNo duplicated entries found\")\n",
    "\n",
    "    # EDA of categorical data\n",
    "    if len(df.select_dtypes(include=['object', 'category']).columns) > 0:\n",
    "        qualitative_eda(df)\n",
    "    \n",
    "    # EDA of numeric data\n",
    "    if len(df.select_dtypes(include=np.number).columns) > 0:\n",
    "        quantitative_eda(df)\n",
    "    \n",
    "    # time series plot\n",
    "    if len(df.select_dtypes(include='datetime64').columns) > 0:\n",
    "        time_series_plot(df)"
   ]
  },
  {
   "cell_type": "markdown",
   "metadata": {},
   "source": [
    "**v)** Now import the dataframe and call the eda function passing the imported dataframe as argument."
   ]
  },
  {
   "cell_type": "code",
   "execution_count": null,
   "metadata": {},
   "outputs": [],
   "source": [
    "# import the dataframe \n",
    "df = pd.read_csv(r'file_path\\file_name.csv')"
   ]
  },
  {
   "cell_type": "code",
   "execution_count": null,
   "metadata": {},
   "outputs": [],
   "source": [
    "# call the eda function with dataframe as the argument\n",
    "eda(df)"
   ]
  },
  {
   "cell_type": "markdown",
   "metadata": {},
   "source": [
    "### Update 1:\n",
    "* Time series representation incorporated. \n",
    "* Correlation matrix heatmap added\n",
    "* Few tabular outputs are now represented in pie chart for aesthetics"
   ]
  }
 ],
 "metadata": {
  "kernelspec": {
   "display_name": "Python 3",
   "language": "python",
   "name": "python3"
  },
  "language_info": {
   "codemirror_mode": {
    "name": "ipython",
    "version": 3
   },
   "file_extension": ".py",
   "mimetype": "text/x-python",
   "name": "python",
   "nbconvert_exporter": "python",
   "pygments_lexer": "ipython3",
   "version": "3.7.4"
  }
 },
 "nbformat": 4,
 "nbformat_minor": 4
}
